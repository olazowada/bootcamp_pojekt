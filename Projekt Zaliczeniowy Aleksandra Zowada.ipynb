{
 "cells": [
  {
   "cell_type": "markdown",
   "metadata": {},
   "source": [
    "## Projekt Zaliczeniowy Bootcamp, 2020-07-13\n",
    "## Aleksandra Zowada \n",
    "## Temat1: Przewidywanie ceny domów. Celem projektu jest zastosowanie modeli regresji do przewidzenia ceny domu o podanych cechach."
   ]
  },
  {
   "cell_type": "markdown",
   "metadata": {},
   "source": [
    "# Spis Tresci\n",
    "## 1. Przygotowanie danych\n",
    "\n",
    "1a. Zaczytanie pakietow  \\\n",
    "1b. Import danych \\\n",
    "1c. Wyodrebniam zmienna celu \\\n",
    "1d. Analiza brakow danych \\\n",
    "1e. Analiza zmiennych numerycznych \\\n",
    "1f. Analiza zmiennych tekstowych \\\n",
    "1g. Analiza zmiennych porzadkowych \\\n",
    "1h. Inne przeksztacenia zmiennych \\\n",
    "1i. Podsumowanie przeksztalcenia\n",
    "\n",
    "## 2. Analiza zmiennej celu\n",
    "\n",
    "## 3. Modelowanie\n",
    "3a. Zaczytanie pakietow \\\n",
    "3b. Podzial danych na zbior treningowy i testowy \\\n",
    "3c. Regresja liniowa  \\\n",
    "3d. Regresja Lasso  \\\n",
    "3e. Las losowy regresyjny\n",
    "\n",
    "## 4. Porownanie modeli\n",
    "4a. Porownanie predykcji z 3 metod modelowania \\\n",
    "4b. Porownanie metryk z 3 metod modelowania \\\n",
    "4c. Porownanie wykresow wartosci przewidywanych z 3 metod modelowania \\\n",
    "4d. Porownanie wykresow residuow z 3 metod modelowania \\\n",
    "4e. Wybor najlepszej metody modelowania\n",
    "\n",
    "## 5. Wyniki\n",
    "5a. Ostateczny ksztalt modelu \\\n",
    "5b. Wskazanie najważniejszych zmiennych"
   ]
  },
  {
   "cell_type": "markdown",
   "metadata": {},
   "source": [
    " "
   ]
  },
  {
   "cell_type": "markdown",
   "metadata": {},
   "source": [
    " "
   ]
  },
  {
   "cell_type": "markdown",
   "metadata": {},
   "source": [
    " "
   ]
  },
  {
   "cell_type": "markdown",
   "metadata": {},
   "source": [
    "## 1. Przygotowanie danych"
   ]
  },
  {
   "cell_type": "markdown",
   "metadata": {},
   "source": [
    "1a. Zaczytanie pakietow"
   ]
  },
  {
   "cell_type": "code",
   "execution_count": 1,
   "metadata": {},
   "outputs": [],
   "source": [
    "import numpy as np\n",
    "import pandas as pd\n",
    "import seaborn as seabornInstance \n",
    "import matplotlib.pyplot as plt  \n",
    "%matplotlib inline"
   ]
  },
  {
   "cell_type": "markdown",
   "metadata": {},
   "source": [
    "1b. Import danych"
   ]
  },
  {
   "cell_type": "code",
   "execution_count": 2,
   "metadata": {
    "scrolled": true
   },
   "outputs": [
    {
     "data": {
      "text/html": [
       "<div>\n",
       "<style scoped>\n",
       "    .dataframe tbody tr th:only-of-type {\n",
       "        vertical-align: middle;\n",
       "    }\n",
       "\n",
       "    .dataframe tbody tr th {\n",
       "        vertical-align: top;\n",
       "    }\n",
       "\n",
       "    .dataframe thead th {\n",
       "        text-align: right;\n",
       "    }\n",
       "</style>\n",
       "<table border=\"1\" class=\"dataframe\">\n",
       "  <thead>\n",
       "    <tr style=\"text-align: right;\">\n",
       "      <th></th>\n",
       "      <th>MS.SubClass</th>\n",
       "      <th>MS.Zoning</th>\n",
       "      <th>Lot.Frontage</th>\n",
       "      <th>Lot.Area</th>\n",
       "      <th>Street</th>\n",
       "      <th>Alley</th>\n",
       "      <th>Lot.Shape</th>\n",
       "      <th>Land.Contour</th>\n",
       "      <th>Utilities</th>\n",
       "      <th>Lot.Config</th>\n",
       "      <th>...</th>\n",
       "      <th>Pool.Area</th>\n",
       "      <th>Pool.QC</th>\n",
       "      <th>Fence</th>\n",
       "      <th>Misc.Feature</th>\n",
       "      <th>Misc.Val</th>\n",
       "      <th>Mo.Sold</th>\n",
       "      <th>Yr.Sold</th>\n",
       "      <th>Sale.Type</th>\n",
       "      <th>Sale.Condition</th>\n",
       "      <th>SalePrice</th>\n",
       "    </tr>\n",
       "  </thead>\n",
       "  <tbody>\n",
       "    <tr>\n",
       "      <th>0</th>\n",
       "      <td>120</td>\n",
       "      <td>RL</td>\n",
       "      <td>34</td>\n",
       "      <td>3901</td>\n",
       "      <td>Pave</td>\n",
       "      <td>None</td>\n",
       "      <td>Reg</td>\n",
       "      <td>Lvl</td>\n",
       "      <td>AllPub</td>\n",
       "      <td>Inside</td>\n",
       "      <td>...</td>\n",
       "      <td>0</td>\n",
       "      <td>None</td>\n",
       "      <td>None</td>\n",
       "      <td>None</td>\n",
       "      <td>0</td>\n",
       "      <td>8</td>\n",
       "      <td>2007</td>\n",
       "      <td>New</td>\n",
       "      <td>Partial</td>\n",
       "      <td>204000</td>\n",
       "    </tr>\n",
       "    <tr>\n",
       "      <th>1</th>\n",
       "      <td>20</td>\n",
       "      <td>RL</td>\n",
       "      <td>70</td>\n",
       "      <td>8400</td>\n",
       "      <td>Pave</td>\n",
       "      <td>None</td>\n",
       "      <td>Reg</td>\n",
       "      <td>Lvl</td>\n",
       "      <td>AllPub</td>\n",
       "      <td>Corner</td>\n",
       "      <td>...</td>\n",
       "      <td>0</td>\n",
       "      <td>None</td>\n",
       "      <td>MnPrv</td>\n",
       "      <td>None</td>\n",
       "      <td>0</td>\n",
       "      <td>4</td>\n",
       "      <td>2010</td>\n",
       "      <td>WD</td>\n",
       "      <td>Normal</td>\n",
       "      <td>126000</td>\n",
       "    </tr>\n",
       "    <tr>\n",
       "      <th>2</th>\n",
       "      <td>85</td>\n",
       "      <td>RL</td>\n",
       "      <td>60</td>\n",
       "      <td>7200</td>\n",
       "      <td>Pave</td>\n",
       "      <td>None</td>\n",
       "      <td>Reg</td>\n",
       "      <td>Lvl</td>\n",
       "      <td>AllPub</td>\n",
       "      <td>Inside</td>\n",
       "      <td>...</td>\n",
       "      <td>0</td>\n",
       "      <td>None</td>\n",
       "      <td>MnPrv</td>\n",
       "      <td>None</td>\n",
       "      <td>0</td>\n",
       "      <td>4</td>\n",
       "      <td>2009</td>\n",
       "      <td>WD</td>\n",
       "      <td>Normal</td>\n",
       "      <td>133900</td>\n",
       "    </tr>\n",
       "    <tr>\n",
       "      <th>3</th>\n",
       "      <td>90</td>\n",
       "      <td>RL</td>\n",
       "      <td>64</td>\n",
       "      <td>7018</td>\n",
       "      <td>Pave</td>\n",
       "      <td>None</td>\n",
       "      <td>Reg</td>\n",
       "      <td>Bnk</td>\n",
       "      <td>AllPub</td>\n",
       "      <td>Inside</td>\n",
       "      <td>...</td>\n",
       "      <td>0</td>\n",
       "      <td>None</td>\n",
       "      <td>None</td>\n",
       "      <td>None</td>\n",
       "      <td>0</td>\n",
       "      <td>6</td>\n",
       "      <td>2009</td>\n",
       "      <td>WD</td>\n",
       "      <td>Alloca</td>\n",
       "      <td>118858</td>\n",
       "    </tr>\n",
       "    <tr>\n",
       "      <th>4</th>\n",
       "      <td>60</td>\n",
       "      <td>RL</td>\n",
       "      <td>111</td>\n",
       "      <td>16259</td>\n",
       "      <td>Pave</td>\n",
       "      <td>None</td>\n",
       "      <td>Reg</td>\n",
       "      <td>Lvl</td>\n",
       "      <td>AllPub</td>\n",
       "      <td>Corner</td>\n",
       "      <td>...</td>\n",
       "      <td>0</td>\n",
       "      <td>None</td>\n",
       "      <td>None</td>\n",
       "      <td>None</td>\n",
       "      <td>0</td>\n",
       "      <td>9</td>\n",
       "      <td>2006</td>\n",
       "      <td>New</td>\n",
       "      <td>Partial</td>\n",
       "      <td>342643</td>\n",
       "    </tr>\n",
       "  </tbody>\n",
       "</table>\n",
       "<p>5 rows × 80 columns</p>\n",
       "</div>"
      ],
      "text/plain": [
       "   MS.SubClass MS.Zoning Lot.Frontage  Lot.Area Street Alley Lot.Shape  \\\n",
       "0          120        RL           34      3901   Pave  None       Reg   \n",
       "1           20        RL           70      8400   Pave  None       Reg   \n",
       "2           85        RL           60      7200   Pave  None       Reg   \n",
       "3           90        RL           64      7018   Pave  None       Reg   \n",
       "4           60        RL          111     16259   Pave  None       Reg   \n",
       "\n",
       "  Land.Contour Utilities Lot.Config  ... Pool.Area Pool.QC  Fence  \\\n",
       "0          Lvl    AllPub     Inside  ...         0    None   None   \n",
       "1          Lvl    AllPub     Corner  ...         0    None  MnPrv   \n",
       "2          Lvl    AllPub     Inside  ...         0    None  MnPrv   \n",
       "3          Bnk    AllPub     Inside  ...         0    None   None   \n",
       "4          Lvl    AllPub     Corner  ...         0    None   None   \n",
       "\n",
       "  Misc.Feature Misc.Val Mo.Sold  Yr.Sold  Sale.Type  Sale.Condition  SalePrice  \n",
       "0         None        0       8     2007        New         Partial     204000  \n",
       "1         None        0       4     2010        WD           Normal     126000  \n",
       "2         None        0       4     2009        WD           Normal     133900  \n",
       "3         None        0       6     2009        WD           Alloca     118858  \n",
       "4         None        0       9     2006        New         Partial     342643  \n",
       "\n",
       "[5 rows x 80 columns]"
      ]
     },
     "execution_count": 2,
     "metadata": {},
     "output_type": "execute_result"
    }
   ],
   "source": [
    "data = pd.read_csv(\"Dane/ames2000_NAfix.csv\",decimal=\",\")\n",
    "data.head()"
   ]
  },
  {
   "cell_type": "code",
   "execution_count": 3,
   "metadata": {},
   "outputs": [
    {
     "data": {
      "text/plain": [
       "Index(['MS.SubClass', 'MS.Zoning', 'Lot.Frontage', 'Lot.Area', 'Street',\n",
       "       'Alley', 'Lot.Shape', 'Land.Contour', 'Utilities', 'Lot.Config',\n",
       "       'Land.Slope', 'Neighborhood', 'Condition.1', 'Condition.2', 'Bldg.Type',\n",
       "       'House.Style', 'Overall.Qual', 'Overall.Cond', 'Year.Built',\n",
       "       'Year.Remod.Add', 'Roof.Style', 'Roof.Matl', 'Exterior.1st',\n",
       "       'Exterior.2nd', 'Mas.Vnr.Type', 'Mas.Vnr.Area', 'Exter.Qual',\n",
       "       'Exter.Cond', 'Foundation', 'Bsmt.Qual', 'Bsmt.Cond', 'Bsmt.Exposure',\n",
       "       'BsmtFin.Type.1', 'BsmtFin.SF.1', 'BsmtFin.Type.2', 'BsmtFin.SF.2',\n",
       "       'Bsmt.Unf.SF', 'Total.Bsmt.SF', 'Heating', 'Heating.QC', 'Central.Air',\n",
       "       'Electrical', 'X1st.Flr.SF', 'X2nd.Flr.SF', 'Low.Qual.Fin.SF',\n",
       "       'Gr.Liv.Area', 'Bsmt.Full.Bath', 'Bsmt.Half.Bath', 'Full.Bath',\n",
       "       'Half.Bath', 'Bedroom.AbvGr', 'Kitchen.AbvGr', 'Kitchen.Qual',\n",
       "       'TotRms.AbvGrd', 'Functional', 'Fireplaces', 'Fireplace.Qu',\n",
       "       'Garage.Type', 'Garage.Yr.Blt', 'Garage.Finish', 'Garage.Cars',\n",
       "       'Garage.Area', 'Garage.Qual', 'Garage.Cond', 'Paved.Drive',\n",
       "       'Wood.Deck.SF', 'Open.Porch.SF', 'Enclosed.Porch', 'X3Ssn.Porch',\n",
       "       'Screen.Porch', 'Pool.Area', 'Pool.QC', 'Fence', 'Misc.Feature',\n",
       "       'Misc.Val', 'Mo.Sold', 'Yr.Sold', 'Sale.Type', 'Sale.Condition',\n",
       "       'SalePrice'],\n",
       "      dtype='object')"
      ]
     },
     "execution_count": 3,
     "metadata": {},
     "output_type": "execute_result"
    }
   ],
   "source": [
    "data.columns"
   ]
  },
  {
   "cell_type": "markdown",
   "metadata": {},
   "source": [
    "1c. Wyodrebniam zmienna celu"
   ]
  },
  {
   "cell_type": "code",
   "execution_count": 4,
   "metadata": {},
   "outputs": [],
   "source": [
    "y = data.SalePrice\n",
    "data = data.drop([\"SalePrice\"],axis=1)"
   ]
  },
  {
   "cell_type": "markdown",
   "metadata": {},
   "source": [
    "1d. Analiza brakow danych"
   ]
  },
  {
   "cell_type": "code",
   "execution_count": 5,
   "metadata": {},
   "outputs": [],
   "source": [
    "# zmieniam kolumne tekstowa 'None' na np.Nan\n",
    "# podmieniam typ kolumny, zeby tam gdzie typ kolumny byl tekstowy jedynie przez braki danych uzyskac kolumne numeryczna\n",
    "data=data.replace('None', np.nan)\n",
    "data=data.apply(pd.to_numeric, errors=\"ignore\")"
   ]
  },
  {
   "cell_type": "markdown",
   "metadata": {},
   "source": [
    "1e. Analiza zmiennych numerycznych"
   ]
  },
  {
   "cell_type": "code",
   "execution_count": 6,
   "metadata": {},
   "outputs": [
    {
     "data": {
      "text/html": [
       "<div>\n",
       "<style scoped>\n",
       "    .dataframe tbody tr th:only-of-type {\n",
       "        vertical-align: middle;\n",
       "    }\n",
       "\n",
       "    .dataframe tbody tr th {\n",
       "        vertical-align: top;\n",
       "    }\n",
       "\n",
       "    .dataframe thead th {\n",
       "        text-align: right;\n",
       "    }\n",
       "</style>\n",
       "<table border=\"1\" class=\"dataframe\">\n",
       "  <thead>\n",
       "    <tr style=\"text-align: right;\">\n",
       "      <th></th>\n",
       "      <th>0</th>\n",
       "    </tr>\n",
       "  </thead>\n",
       "  <tbody>\n",
       "    <tr>\n",
       "      <th>Lot.Frontage</th>\n",
       "      <td>334</td>\n",
       "    </tr>\n",
       "    <tr>\n",
       "      <th>Mas.Vnr.Area</th>\n",
       "      <td>16</td>\n",
       "    </tr>\n",
       "    <tr>\n",
       "      <th>BsmtFin.SF.1</th>\n",
       "      <td>1</td>\n",
       "    </tr>\n",
       "    <tr>\n",
       "      <th>BsmtFin.SF.2</th>\n",
       "      <td>1</td>\n",
       "    </tr>\n",
       "    <tr>\n",
       "      <th>Bsmt.Unf.SF</th>\n",
       "      <td>1</td>\n",
       "    </tr>\n",
       "    <tr>\n",
       "      <th>Total.Bsmt.SF</th>\n",
       "      <td>1</td>\n",
       "    </tr>\n",
       "    <tr>\n",
       "      <th>Bsmt.Full.Bath</th>\n",
       "      <td>1</td>\n",
       "    </tr>\n",
       "    <tr>\n",
       "      <th>Bsmt.Half.Bath</th>\n",
       "      <td>1</td>\n",
       "    </tr>\n",
       "    <tr>\n",
       "      <th>Garage.Yr.Blt</th>\n",
       "      <td>112</td>\n",
       "    </tr>\n",
       "    <tr>\n",
       "      <th>Garage.Cars</th>\n",
       "      <td>1</td>\n",
       "    </tr>\n",
       "    <tr>\n",
       "      <th>Garage.Area</th>\n",
       "      <td>1</td>\n",
       "    </tr>\n",
       "  </tbody>\n",
       "</table>\n",
       "</div>"
      ],
      "text/plain": [
       "                  0\n",
       "Lot.Frontage    334\n",
       "Mas.Vnr.Area     16\n",
       "BsmtFin.SF.1      1\n",
       "BsmtFin.SF.2      1\n",
       "Bsmt.Unf.SF       1\n",
       "Total.Bsmt.SF     1\n",
       "Bsmt.Full.Bath    1\n",
       "Bsmt.Half.Bath    1\n",
       "Garage.Yr.Blt   112\n",
       "Garage.Cars       1\n",
       "Garage.Area       1"
      ]
     },
     "execution_count": 6,
     "metadata": {},
     "output_type": "execute_result"
    }
   ],
   "source": [
    "# wypisuje kolumny numeryczne w ktorych sa braki danych\n",
    "data_numeric=data.select_dtypes(include=np.number)\n",
    "col_numeric = pd.Series.to_frame(data_numeric.isna().sum())\n",
    "col_numeric[col_numeric[0]>0]"
   ]
  },
  {
   "cell_type": "markdown",
   "metadata": {},
   "source": [
    "analizuje kazda zienna na podstawie opisu i zawartosci uzupelniam braki danych"
   ]
  },
  {
   "cell_type": "code",
   "execution_count": 7,
   "metadata": {},
   "outputs": [],
   "source": [
    "# braki danych zmieniam na 0\n",
    "data['Lot.Frontage']= data['Lot.Frontage'].fillna(0)\n",
    "data['Mas.Vnr.Area']= data['Mas.Vnr.Area'].fillna(0)\n",
    "data['BsmtFin.SF.1']= data['BsmtFin.SF.1'].fillna(0)\n",
    "data['BsmtFin.SF.2']= data['BsmtFin.SF.2'].fillna(0)\n",
    "data['Bsmt.Unf.SF']= data['Bsmt.Unf.SF'].fillna(0)\n",
    "data['Total.Bsmt.SF']= data['Total.Bsmt.SF'].fillna(0)\n",
    "data['Bsmt.Full.Bath']= data['Bsmt.Full.Bath'].fillna(0)\n",
    "data['Bsmt.Half.Bath']= data['Bsmt.Half.Bath'].fillna(0)"
   ]
  },
  {
   "cell_type": "code",
   "execution_count": 8,
   "metadata": {},
   "outputs": [],
   "source": [
    "# zmiana powierzchni garazu, \n",
    "# jezeli garaz istnieje - powierzchnie ustawiam na srednia powierzchnie garazu dla 1 auta\n",
    "# jezeli garaz nie istnieje - powierzchnie ustawiam na 0\n",
    "data.loc[(data['Garage.Area'].isna()) &  (data['Garage.Type'].notnull()),'Garage.Area']= data[data['Garage.Cars']==1]['Garage.Area'].mean()\n",
    "data.loc[(data['Garage.Area'].isna()) &  (data['Garage.Type'].isna()),'Garage.Area']= 0"
   ]
  },
  {
   "cell_type": "code",
   "execution_count": 9,
   "metadata": {},
   "outputs": [],
   "source": [
    "# zmiana pojemnosci garazu\n",
    "# jezeli garaz istnieje - pojemnosc ustawiam na 1 auto\n",
    "# jezeli garaz nie istnieje - pojemnosc ustawiam na 0 aut\n",
    "data.loc[(data['Garage.Cars'].isna()) &  (data['Garage.Type'].notnull()),'Garage.Cars']= 1\n",
    "data.loc[(data['Garage.Cars'].isna()) &  (data['Garage.Type'].isna()),'Garage.Cars']= 0"
   ]
  },
  {
   "cell_type": "code",
   "execution_count": 10,
   "metadata": {},
   "outputs": [],
   "source": [
    "# zmiana roku budowy garazu, \n",
    "# jezeli garaz istnieje - rok budowy garazu ustawiam na rok budowy budynku\n",
    "# jezeli garaz nie istnieje - rok budowy garazu ustawiam na 0\n",
    "data.loc[(data['Garage.Yr.Blt'].isna()) &  (data['Garage.Type'].notnull()),'Garage.Yr.Blt']= data['Year.Built']\n",
    "data.loc[(data['Garage.Yr.Blt'].isna()) &  (data['Garage.Type'].isna()),'Garage.Yr.Blt']= 0"
   ]
  },
  {
   "cell_type": "code",
   "execution_count": 11,
   "metadata": {},
   "outputs": [
    {
     "data": {
      "text/html": [
       "<div>\n",
       "<style scoped>\n",
       "    .dataframe tbody tr th:only-of-type {\n",
       "        vertical-align: middle;\n",
       "    }\n",
       "\n",
       "    .dataframe tbody tr th {\n",
       "        vertical-align: top;\n",
       "    }\n",
       "\n",
       "    .dataframe thead th {\n",
       "        text-align: right;\n",
       "    }\n",
       "</style>\n",
       "<table border=\"1\" class=\"dataframe\">\n",
       "  <thead>\n",
       "    <tr style=\"text-align: right;\">\n",
       "      <th></th>\n",
       "      <th>0</th>\n",
       "    </tr>\n",
       "  </thead>\n",
       "  <tbody>\n",
       "  </tbody>\n",
       "</table>\n",
       "</div>"
      ],
      "text/plain": [
       "Empty DataFrame\n",
       "Columns: [0]\n",
       "Index: []"
      ]
     },
     "execution_count": 11,
     "metadata": {},
     "output_type": "execute_result"
    }
   ],
   "source": [
    "# ponownie wypisuje kolumny numeryczne w ktorych sa braki danych, \n",
    "# pusty wynik oznacza uzupelnienie wszystkich brakow danych dla wartosci numarycznych\n",
    "data_numeric=data.select_dtypes(include=np.number)\n",
    "col_numeric = pd.Series.to_frame(data_numeric.isna().sum())\n",
    "col_numeric[col_numeric[0]>0]"
   ]
  },
  {
   "cell_type": "markdown",
   "metadata": {},
   "source": [
    "1f. Analiza zmiennych tekstowych"
   ]
  },
  {
   "cell_type": "code",
   "execution_count": 12,
   "metadata": {},
   "outputs": [
    {
     "data": {
      "text/html": [
       "<div>\n",
       "<style scoped>\n",
       "    .dataframe tbody tr th:only-of-type {\n",
       "        vertical-align: middle;\n",
       "    }\n",
       "\n",
       "    .dataframe tbody tr th {\n",
       "        vertical-align: top;\n",
       "    }\n",
       "\n",
       "    .dataframe thead th {\n",
       "        text-align: right;\n",
       "    }\n",
       "</style>\n",
       "<table border=\"1\" class=\"dataframe\">\n",
       "  <thead>\n",
       "    <tr style=\"text-align: right;\">\n",
       "      <th></th>\n",
       "      <th>0</th>\n",
       "    </tr>\n",
       "  </thead>\n",
       "  <tbody>\n",
       "    <tr>\n",
       "      <th>Alley</th>\n",
       "      <td>1865</td>\n",
       "    </tr>\n",
       "    <tr>\n",
       "      <th>Mas.Vnr.Type</th>\n",
       "      <td>1232</td>\n",
       "    </tr>\n",
       "    <tr>\n",
       "      <th>Bsmt.Qual</th>\n",
       "      <td>53</td>\n",
       "    </tr>\n",
       "    <tr>\n",
       "      <th>Bsmt.Cond</th>\n",
       "      <td>53</td>\n",
       "    </tr>\n",
       "    <tr>\n",
       "      <th>Bsmt.Exposure</th>\n",
       "      <td>55</td>\n",
       "    </tr>\n",
       "    <tr>\n",
       "      <th>BsmtFin.Type.1</th>\n",
       "      <td>53</td>\n",
       "    </tr>\n",
       "    <tr>\n",
       "      <th>BsmtFin.Type.2</th>\n",
       "      <td>54</td>\n",
       "    </tr>\n",
       "    <tr>\n",
       "      <th>Fireplace.Qu</th>\n",
       "      <td>980</td>\n",
       "    </tr>\n",
       "    <tr>\n",
       "      <th>Garage.Type</th>\n",
       "      <td>110</td>\n",
       "    </tr>\n",
       "    <tr>\n",
       "      <th>Garage.Finish</th>\n",
       "      <td>112</td>\n",
       "    </tr>\n",
       "    <tr>\n",
       "      <th>Garage.Qual</th>\n",
       "      <td>112</td>\n",
       "    </tr>\n",
       "    <tr>\n",
       "      <th>Garage.Cond</th>\n",
       "      <td>112</td>\n",
       "    </tr>\n",
       "    <tr>\n",
       "      <th>Pool.QC</th>\n",
       "      <td>1989</td>\n",
       "    </tr>\n",
       "    <tr>\n",
       "      <th>Fence</th>\n",
       "      <td>1605</td>\n",
       "    </tr>\n",
       "    <tr>\n",
       "      <th>Misc.Feature</th>\n",
       "      <td>1926</td>\n",
       "    </tr>\n",
       "  </tbody>\n",
       "</table>\n",
       "</div>"
      ],
      "text/plain": [
       "                   0\n",
       "Alley           1865\n",
       "Mas.Vnr.Type    1232\n",
       "Bsmt.Qual         53\n",
       "Bsmt.Cond         53\n",
       "Bsmt.Exposure     55\n",
       "BsmtFin.Type.1    53\n",
       "BsmtFin.Type.2    54\n",
       "Fireplace.Qu     980\n",
       "Garage.Type      110\n",
       "Garage.Finish    112\n",
       "Garage.Qual      112\n",
       "Garage.Cond      112\n",
       "Pool.QC         1989\n",
       "Fence           1605\n",
       "Misc.Feature    1926"
      ]
     },
     "execution_count": 12,
     "metadata": {},
     "output_type": "execute_result"
    }
   ],
   "source": [
    "# wypisuje kolumny tekstowe w ktorych sa braki danych\n",
    "data_char=data.select_dtypes(include='object')\n",
    "col_numeric = pd.Series.to_frame(data_char.isna().sum())\n",
    "col_numeric[col_numeric[0]>0]"
   ]
  },
  {
   "cell_type": "markdown",
   "metadata": {},
   "source": [
    "analizuje kazda zienna na podstawie opisu i zawartosci uzupelniam braki danych"
   ]
  },
  {
   "cell_type": "code",
   "execution_count": 13,
   "metadata": {},
   "outputs": [],
   "source": [
    "# braki danych zmiana na 'NA'\n",
    "data['Alley']= data['Alley'].fillna('NA')\n",
    "data['Mas.Vnr.Type']= data['Mas.Vnr.Type'].fillna('NA')\n",
    "data['Bsmt.Qual']= data['Bsmt.Qual'].fillna('NA')\n",
    "data['Bsmt.Cond']= data['Bsmt.Cond'].fillna('NA')\n",
    "data['Bsmt.Exposure']= data['Bsmt.Exposure'].fillna('NA')\n",
    "data['BsmtFin.Type.1']= data['BsmtFin.Type.1'].fillna('NA')\n",
    "data['BsmtFin.Type.2']= data['BsmtFin.Type.2'].fillna('NA')\n",
    "data['Garage.Type']= data['Garage.Type'].fillna('NA')\n",
    "data['Fence']= data['Fence'].fillna('NA')\n",
    "data['Misc.Feature']= data['Misc.Feature'].fillna('NA')"
   ]
  },
  {
   "cell_type": "code",
   "execution_count": 14,
   "metadata": {},
   "outputs": [],
   "source": [
    "# zmiana jakosci kominka, \n",
    "# jezeli kominek nie istnieje - 'NA'\n",
    "# jezeli kominek istnieje - srodkowa kategorie dla tej zmiennej\n",
    "data.loc[(data['Fireplace.Qu'].isna()) &  (data['Fireplaces']==0),'Fireplace.Qu']= 'NA'\n",
    "data.loc[(data['Fireplace.Qu'].isna()) &  (data['Fireplaces']>0),'Fireplace.Qu']= 'TA'"
   ]
  },
  {
   "cell_type": "code",
   "execution_count": 15,
   "metadata": {},
   "outputs": [],
   "source": [
    "# zmiana wykonczenia garazu, \n",
    "# jezeli garaz nie istnieje - 'NA'\n",
    "# jezeli garaz istnieje - srodkowa kategorie dla tej zmiennej\n",
    "data.loc[(data['Garage.Finish'].isna()) &  (data['Garage.Type']=='NA'),'Garage.Finish']= 'NA'\n",
    "data.loc[(data['Garage.Finish'].isna()) &  (data['Garage.Type']!='NA'),'Garage.Finish']= 'RFn'"
   ]
  },
  {
   "cell_type": "code",
   "execution_count": 16,
   "metadata": {},
   "outputs": [],
   "source": [
    "# zmiana kwalifikacji garazu, \n",
    "# jezeli garaz nie istnieje - 'NA'\n",
    "# jezeli garaz istnieje - srodkowa kategorie dla tej zmiennej\n",
    "data.loc[(data['Garage.Qual'].isna()) &  (data['Garage.Type']=='NA'),'Garage.Qual']= 'NA'\n",
    "data.loc[(data['Garage.Qual'].isna()) &  (data['Garage.Type']!='NA'),'Garage.Qual']= 'TA'"
   ]
  },
  {
   "cell_type": "code",
   "execution_count": 17,
   "metadata": {},
   "outputs": [],
   "source": [
    "# zmiana jakosci garazu, \n",
    "# jezeli garaz nie istnieje - 'NA'\n",
    "# jezeli garaz istnieje - srodkowa kategorie dla tej zmiennej\n",
    "data.loc[(data['Garage.Cond'].isna()) &  (data['Garage.Type']=='NA'),'Garage.Cond']= 'NA'\n",
    "data.loc[(data['Garage.Cond'].isna()) &  (data['Garage.Type']!='NA'),'Garage.Cond']= 'TA'"
   ]
  },
  {
   "cell_type": "code",
   "execution_count": 18,
   "metadata": {},
   "outputs": [],
   "source": [
    "# zmiana jakosci basenu, \n",
    "# jezeli basen nie istnieje - 'NA'\n",
    "# jezeli basen istnieje - srodkowa kategorie dla tej zmiennej\n",
    "data.loc[(data['Pool.QC'].isna()) &  (data['Pool.Area']==0),'Pool.QC']= 'NA'\n",
    "data.loc[(data['Pool.QC'].isna()) &  (data['Pool.Area']>0),'Pool.QC']= 'TA'"
   ]
  },
  {
   "cell_type": "code",
   "execution_count": 19,
   "metadata": {},
   "outputs": [
    {
     "data": {
      "text/html": [
       "<div>\n",
       "<style scoped>\n",
       "    .dataframe tbody tr th:only-of-type {\n",
       "        vertical-align: middle;\n",
       "    }\n",
       "\n",
       "    .dataframe tbody tr th {\n",
       "        vertical-align: top;\n",
       "    }\n",
       "\n",
       "    .dataframe thead th {\n",
       "        text-align: right;\n",
       "    }\n",
       "</style>\n",
       "<table border=\"1\" class=\"dataframe\">\n",
       "  <thead>\n",
       "    <tr style=\"text-align: right;\">\n",
       "      <th></th>\n",
       "      <th>0</th>\n",
       "    </tr>\n",
       "  </thead>\n",
       "  <tbody>\n",
       "  </tbody>\n",
       "</table>\n",
       "</div>"
      ],
      "text/plain": [
       "Empty DataFrame\n",
       "Columns: [0]\n",
       "Index: []"
      ]
     },
     "execution_count": 19,
     "metadata": {},
     "output_type": "execute_result"
    }
   ],
   "source": [
    "# ponownie wypisuje kolumny tekstowe w ktorych sa braki danych, \n",
    "# pusty wynik oznacza uzupelnienie wszystkich brakow danych dla wartosci tekstowych\n",
    "data_char=data.select_dtypes(include='object')\n",
    "col_numeric = pd.Series.to_frame(data_char.isna().sum())\n",
    "col_numeric[col_numeric[0]>0]"
   ]
  },
  {
   "cell_type": "markdown",
   "metadata": {},
   "source": [
    "1g. Analiza zmiennych porzadkowych"
   ]
  },
  {
   "cell_type": "code",
   "execution_count": 20,
   "metadata": {},
   "outputs": [],
   "source": [
    "# zmienne porzadkowe zamieniam na liczby 0-7"
   ]
  },
  {
   "cell_type": "code",
   "execution_count": 21,
   "metadata": {},
   "outputs": [],
   "source": [
    "dict_1={'Ex':5 ,    'Gd':4 ,    'TA':3 ,    'Fa':2 ,    'Po':1 , 'NA':0 }\n",
    "\n",
    "data[\"Exter.Qual\"] = data[\"Exter.Qual\"].replace(dict_1)\n",
    "data[\"Exter.Cond\"] = data[\"Exter.Cond\"].replace(dict_1)\n",
    "data[\"Bsmt.Qual\"] = data[\"Bsmt.Qual\"].replace(dict_1)\n",
    "data[\"Bsmt.Cond\"] = data[\"Bsmt.Cond\"].replace(dict_1)\n",
    "data[\"Heating.QC\"] = data[\"Heating.QC\"].replace(dict_1)\n",
    "data[\"Kitchen.Qual\"] = data[\"Kitchen.Qual\"].replace(dict_1)\n",
    "data[\"Fireplace.Qu\"] = data[\"Fireplace.Qu\"].replace(dict_1)\n",
    "data[\"Garage.Qual\"] = data[\"Garage.Qual\"].replace(dict_1)\n",
    "data[\"Garage.Cond\"] = data[\"Garage.Cond\"].replace(dict_1)\n",
    "data[\"Pool.QC\"] = data[\"Pool.QC\"].replace(dict_1)"
   ]
  },
  {
   "cell_type": "code",
   "execution_count": 22,
   "metadata": {},
   "outputs": [],
   "source": [
    "dict_2={'GLQ':6 , 'ALQ':5 , 'BLQ':4 , 'Rec':3 , 'LwQ':2 , 'Unf':1 , 'NA':0 }\n",
    "\n",
    "data[\"BsmtFin.Type.1\"] = data[\"BsmtFin.Type.1\"].replace(dict_2)\n",
    "data[\"BsmtFin.Type.2\"] = data[\"BsmtFin.Type.2\"].replace(dict_2)"
   ]
  },
  {
   "cell_type": "code",
   "execution_count": 23,
   "metadata": {},
   "outputs": [],
   "source": [
    "data[\"Lot.Shape\"] = data[\"Lot.Shape\"].replace({\"Reg\": 4,\"IR1\": 3,\"IR2\": 2,\"IR3\": 1})\n",
    "data[\"Utilities\"] = data[\"Utilities\"].replace({'AllPub': 4, 'NoSewr': 3,'NoSeWa': 2, 'ELO': 1})\n",
    "data[\"Land.Slope\"] = data[\"Land.Slope\"].replace({'Gtl': 3,'Mod': 2, 'Sev': 1})\n",
    "data[\"Bsmt.Exposure\"] = data[\"Bsmt.Exposure\"].replace({'Gd':4 ,'Av':3 ,'Mn':2 ,'No':1 ,'NA':0 })\n",
    "data[\"Functional\"] = data[\"Functional\"].replace({'Typ' :7,'Min1' :6,'Min2' :5,'Mod' :4,'Maj1' :3,'Maj2' :2,'Sev' :1,'Sal' :0})\n",
    "data[\"Garage.Finish\"] = data[\"Garage.Finish\"].replace({'Fin':3 ,'RFn':2 ,'Unf':1 ,'NA':0 })\n",
    "data[\"Paved.Drive\"] = data[\"Paved.Drive\"].replace({'Y':3,'P':2,'N':1})\n",
    "data[\"Fence\"] = data[\"Fence\"].replace({'GdPrv': 4,'MnPrv': 3,'GdWo': 2,'MnWw': 1,'NA':0 })\n",
    "data[\"Central.Air\"] = data[\"Central.Air\"].replace({'Y': 1,'N': 0 })"
   ]
  },
  {
   "cell_type": "markdown",
   "metadata": {},
   "source": [
    "1h. Inne przeksztacenia zmiennych"
   ]
  },
  {
   "cell_type": "code",
   "execution_count": 24,
   "metadata": {},
   "outputs": [],
   "source": [
    "data[\"MS.Zoning\"] = data[\"MS.Zoning\"].replace({'C (all)': 'C','I (all)': 'I' ,'A (agr)' :'A'})"
   ]
  },
  {
   "cell_type": "markdown",
   "metadata": {},
   "source": [
    "1i. Podsumowanie przeksztalcenia "
   ]
  },
  {
   "cell_type": "code",
   "execution_count": 25,
   "metadata": {},
   "outputs": [
    {
     "data": {
      "text/html": [
       "<div>\n",
       "<style scoped>\n",
       "    .dataframe tbody tr th:only-of-type {\n",
       "        vertical-align: middle;\n",
       "    }\n",
       "\n",
       "    .dataframe tbody tr th {\n",
       "        vertical-align: top;\n",
       "    }\n",
       "\n",
       "    .dataframe thead th {\n",
       "        text-align: right;\n",
       "    }\n",
       "</style>\n",
       "<table border=\"1\" class=\"dataframe\">\n",
       "  <thead>\n",
       "    <tr style=\"text-align: right;\">\n",
       "      <th></th>\n",
       "      <th>MS.SubClass</th>\n",
       "      <th>Lot.Frontage</th>\n",
       "      <th>Lot.Area</th>\n",
       "      <th>Lot.Shape</th>\n",
       "      <th>Utilities</th>\n",
       "      <th>Land.Slope</th>\n",
       "      <th>Overall.Qual</th>\n",
       "      <th>Overall.Cond</th>\n",
       "      <th>Year.Built</th>\n",
       "      <th>Year.Remod.Add</th>\n",
       "      <th>...</th>\n",
       "      <th>Open.Porch.SF</th>\n",
       "      <th>Enclosed.Porch</th>\n",
       "      <th>X3Ssn.Porch</th>\n",
       "      <th>Screen.Porch</th>\n",
       "      <th>Pool.Area</th>\n",
       "      <th>Pool.QC</th>\n",
       "      <th>Fence</th>\n",
       "      <th>Misc.Val</th>\n",
       "      <th>Mo.Sold</th>\n",
       "      <th>Yr.Sold</th>\n",
       "    </tr>\n",
       "  </thead>\n",
       "  <tbody>\n",
       "    <tr>\n",
       "      <th>count</th>\n",
       "      <td>2000.000000</td>\n",
       "      <td>2000.00000</td>\n",
       "      <td>2000.000000</td>\n",
       "      <td>2000.000000</td>\n",
       "      <td>2000.0</td>\n",
       "      <td>2000.000000</td>\n",
       "      <td>2000.000000</td>\n",
       "      <td>2000.000000</td>\n",
       "      <td>2000.000000</td>\n",
       "      <td>2000.000000</td>\n",
       "      <td>...</td>\n",
       "      <td>2000.000000</td>\n",
       "      <td>2000.000000</td>\n",
       "      <td>2000.000000</td>\n",
       "      <td>2000.000000</td>\n",
       "      <td>2000.000000</td>\n",
       "      <td>2000.000000</td>\n",
       "      <td>2000.000000</td>\n",
       "      <td>2000.00000</td>\n",
       "      <td>2000.000000</td>\n",
       "      <td>2000.000000</td>\n",
       "    </tr>\n",
       "    <tr>\n",
       "      <th>mean</th>\n",
       "      <td>56.945000</td>\n",
       "      <td>57.84150</td>\n",
       "      <td>10296.665000</td>\n",
       "      <td>3.597000</td>\n",
       "      <td>4.0</td>\n",
       "      <td>2.943000</td>\n",
       "      <td>6.082000</td>\n",
       "      <td>5.574000</td>\n",
       "      <td>1971.079500</td>\n",
       "      <td>1984.013500</td>\n",
       "      <td>...</td>\n",
       "      <td>46.335000</td>\n",
       "      <td>23.936500</td>\n",
       "      <td>2.116000</td>\n",
       "      <td>15.681500</td>\n",
       "      <td>2.934000</td>\n",
       "      <td>0.020500</td>\n",
       "      <td>0.585500</td>\n",
       "      <td>42.51300</td>\n",
       "      <td>6.217500</td>\n",
       "      <td>2007.799500</td>\n",
       "    </tr>\n",
       "    <tr>\n",
       "      <th>std</th>\n",
       "      <td>42.699281</td>\n",
       "      <td>33.74802</td>\n",
       "      <td>8828.208491</td>\n",
       "      <td>0.578583</td>\n",
       "      <td>0.0</td>\n",
       "      <td>0.260355</td>\n",
       "      <td>1.387169</td>\n",
       "      <td>1.105502</td>\n",
       "      <td>29.985426</td>\n",
       "      <td>20.881771</td>\n",
       "      <td>...</td>\n",
       "      <td>65.685433</td>\n",
       "      <td>66.144388</td>\n",
       "      <td>20.668119</td>\n",
       "      <td>54.270505</td>\n",
       "      <td>41.080828</td>\n",
       "      <td>0.286567</td>\n",
       "      <td>1.218783</td>\n",
       "      <td>440.83108</td>\n",
       "      <td>2.726336</td>\n",
       "      <td>1.316118</td>\n",
       "    </tr>\n",
       "    <tr>\n",
       "      <th>min</th>\n",
       "      <td>20.000000</td>\n",
       "      <td>0.00000</td>\n",
       "      <td>1300.000000</td>\n",
       "      <td>1.000000</td>\n",
       "      <td>4.0</td>\n",
       "      <td>1.000000</td>\n",
       "      <td>1.000000</td>\n",
       "      <td>1.000000</td>\n",
       "      <td>1872.000000</td>\n",
       "      <td>1950.000000</td>\n",
       "      <td>...</td>\n",
       "      <td>0.000000</td>\n",
       "      <td>0.000000</td>\n",
       "      <td>0.000000</td>\n",
       "      <td>0.000000</td>\n",
       "      <td>0.000000</td>\n",
       "      <td>0.000000</td>\n",
       "      <td>0.000000</td>\n",
       "      <td>0.00000</td>\n",
       "      <td>1.000000</td>\n",
       "      <td>2006.000000</td>\n",
       "    </tr>\n",
       "    <tr>\n",
       "      <th>25%</th>\n",
       "      <td>20.000000</td>\n",
       "      <td>43.00000</td>\n",
       "      <td>7500.000000</td>\n",
       "      <td>3.000000</td>\n",
       "      <td>4.0</td>\n",
       "      <td>3.000000</td>\n",
       "      <td>5.000000</td>\n",
       "      <td>5.000000</td>\n",
       "      <td>1954.000000</td>\n",
       "      <td>1965.000000</td>\n",
       "      <td>...</td>\n",
       "      <td>0.000000</td>\n",
       "      <td>0.000000</td>\n",
       "      <td>0.000000</td>\n",
       "      <td>0.000000</td>\n",
       "      <td>0.000000</td>\n",
       "      <td>0.000000</td>\n",
       "      <td>0.000000</td>\n",
       "      <td>0.00000</td>\n",
       "      <td>4.000000</td>\n",
       "      <td>2007.000000</td>\n",
       "    </tr>\n",
       "    <tr>\n",
       "      <th>50%</th>\n",
       "      <td>50.000000</td>\n",
       "      <td>63.00000</td>\n",
       "      <td>9465.000000</td>\n",
       "      <td>4.000000</td>\n",
       "      <td>4.0</td>\n",
       "      <td>3.000000</td>\n",
       "      <td>6.000000</td>\n",
       "      <td>5.000000</td>\n",
       "      <td>1972.000000</td>\n",
       "      <td>1993.000000</td>\n",
       "      <td>...</td>\n",
       "      <td>25.000000</td>\n",
       "      <td>0.000000</td>\n",
       "      <td>0.000000</td>\n",
       "      <td>0.000000</td>\n",
       "      <td>0.000000</td>\n",
       "      <td>0.000000</td>\n",
       "      <td>0.000000</td>\n",
       "      <td>0.00000</td>\n",
       "      <td>6.000000</td>\n",
       "      <td>2008.000000</td>\n",
       "    </tr>\n",
       "    <tr>\n",
       "      <th>75%</th>\n",
       "      <td>70.000000</td>\n",
       "      <td>78.00000</td>\n",
       "      <td>11500.000000</td>\n",
       "      <td>4.000000</td>\n",
       "      <td>4.0</td>\n",
       "      <td>3.000000</td>\n",
       "      <td>7.000000</td>\n",
       "      <td>6.000000</td>\n",
       "      <td>2000.000000</td>\n",
       "      <td>2004.000000</td>\n",
       "      <td>...</td>\n",
       "      <td>72.000000</td>\n",
       "      <td>0.000000</td>\n",
       "      <td>0.000000</td>\n",
       "      <td>0.000000</td>\n",
       "      <td>0.000000</td>\n",
       "      <td>0.000000</td>\n",
       "      <td>0.000000</td>\n",
       "      <td>0.00000</td>\n",
       "      <td>8.000000</td>\n",
       "      <td>2009.000000</td>\n",
       "    </tr>\n",
       "    <tr>\n",
       "      <th>max</th>\n",
       "      <td>190.000000</td>\n",
       "      <td>313.00000</td>\n",
       "      <td>215245.000000</td>\n",
       "      <td>4.000000</td>\n",
       "      <td>4.0</td>\n",
       "      <td>3.000000</td>\n",
       "      <td>10.000000</td>\n",
       "      <td>9.000000</td>\n",
       "      <td>2010.000000</td>\n",
       "      <td>2010.000000</td>\n",
       "      <td>...</td>\n",
       "      <td>742.000000</td>\n",
       "      <td>1012.000000</td>\n",
       "      <td>320.000000</td>\n",
       "      <td>480.000000</td>\n",
       "      <td>800.000000</td>\n",
       "      <td>5.000000</td>\n",
       "      <td>4.000000</td>\n",
       "      <td>15500.00000</td>\n",
       "      <td>12.000000</td>\n",
       "      <td>2010.000000</td>\n",
       "    </tr>\n",
       "  </tbody>\n",
       "</table>\n",
       "<p>8 rows × 57 columns</p>\n",
       "</div>"
      ],
      "text/plain": [
       "       MS.SubClass  Lot.Frontage       Lot.Area    Lot.Shape  Utilities  \\\n",
       "count  2000.000000    2000.00000    2000.000000  2000.000000     2000.0   \n",
       "mean     56.945000      57.84150   10296.665000     3.597000        4.0   \n",
       "std      42.699281      33.74802    8828.208491     0.578583        0.0   \n",
       "min      20.000000       0.00000    1300.000000     1.000000        4.0   \n",
       "25%      20.000000      43.00000    7500.000000     3.000000        4.0   \n",
       "50%      50.000000      63.00000    9465.000000     4.000000        4.0   \n",
       "75%      70.000000      78.00000   11500.000000     4.000000        4.0   \n",
       "max     190.000000     313.00000  215245.000000     4.000000        4.0   \n",
       "\n",
       "        Land.Slope  Overall.Qual  Overall.Cond   Year.Built  Year.Remod.Add  \\\n",
       "count  2000.000000   2000.000000   2000.000000  2000.000000     2000.000000   \n",
       "mean      2.943000      6.082000      5.574000  1971.079500     1984.013500   \n",
       "std       0.260355      1.387169      1.105502    29.985426       20.881771   \n",
       "min       1.000000      1.000000      1.000000  1872.000000     1950.000000   \n",
       "25%       3.000000      5.000000      5.000000  1954.000000     1965.000000   \n",
       "50%       3.000000      6.000000      5.000000  1972.000000     1993.000000   \n",
       "75%       3.000000      7.000000      6.000000  2000.000000     2004.000000   \n",
       "max       3.000000     10.000000      9.000000  2010.000000     2010.000000   \n",
       "\n",
       "       ...  Open.Porch.SF  Enclosed.Porch  X3Ssn.Porch  Screen.Porch  \\\n",
       "count  ...    2000.000000     2000.000000  2000.000000   2000.000000   \n",
       "mean   ...      46.335000       23.936500     2.116000     15.681500   \n",
       "std    ...      65.685433       66.144388    20.668119     54.270505   \n",
       "min    ...       0.000000        0.000000     0.000000      0.000000   \n",
       "25%    ...       0.000000        0.000000     0.000000      0.000000   \n",
       "50%    ...      25.000000        0.000000     0.000000      0.000000   \n",
       "75%    ...      72.000000        0.000000     0.000000      0.000000   \n",
       "max    ...     742.000000     1012.000000   320.000000    480.000000   \n",
       "\n",
       "         Pool.Area      Pool.QC        Fence     Misc.Val      Mo.Sold  \\\n",
       "count  2000.000000  2000.000000  2000.000000   2000.00000  2000.000000   \n",
       "mean      2.934000     0.020500     0.585500     42.51300     6.217500   \n",
       "std      41.080828     0.286567     1.218783    440.83108     2.726336   \n",
       "min       0.000000     0.000000     0.000000      0.00000     1.000000   \n",
       "25%       0.000000     0.000000     0.000000      0.00000     4.000000   \n",
       "50%       0.000000     0.000000     0.000000      0.00000     6.000000   \n",
       "75%       0.000000     0.000000     0.000000      0.00000     8.000000   \n",
       "max     800.000000     5.000000     4.000000  15500.00000    12.000000   \n",
       "\n",
       "           Yr.Sold  \n",
       "count  2000.000000  \n",
       "mean   2007.799500  \n",
       "std       1.316118  \n",
       "min    2006.000000  \n",
       "25%    2007.000000  \n",
       "50%    2008.000000  \n",
       "75%    2009.000000  \n",
       "max    2010.000000  \n",
       "\n",
       "[8 rows x 57 columns]"
      ]
     },
     "execution_count": 25,
     "metadata": {},
     "output_type": "execute_result"
    }
   ],
   "source": [
    "data.describe()"
   ]
  },
  {
   "cell_type": "code",
   "execution_count": 26,
   "metadata": {},
   "outputs": [
    {
     "data": {
      "text/html": [
       "<div>\n",
       "<style scoped>\n",
       "    .dataframe tbody tr th:only-of-type {\n",
       "        vertical-align: middle;\n",
       "    }\n",
       "\n",
       "    .dataframe tbody tr th {\n",
       "        vertical-align: top;\n",
       "    }\n",
       "\n",
       "    .dataframe thead th {\n",
       "        text-align: right;\n",
       "    }\n",
       "</style>\n",
       "<table border=\"1\" class=\"dataframe\">\n",
       "  <thead>\n",
       "    <tr style=\"text-align: right;\">\n",
       "      <th></th>\n",
       "      <th>MS.SubClass</th>\n",
       "      <th>Lot.Frontage</th>\n",
       "      <th>Lot.Area</th>\n",
       "      <th>Lot.Shape</th>\n",
       "      <th>Utilities</th>\n",
       "      <th>Land.Slope</th>\n",
       "      <th>Overall.Qual</th>\n",
       "      <th>Overall.Cond</th>\n",
       "      <th>Year.Built</th>\n",
       "      <th>Year.Remod.Add</th>\n",
       "      <th>...</th>\n",
       "      <th>Sale.Type_New</th>\n",
       "      <th>Sale.Type_Oth</th>\n",
       "      <th>Sale.Type_VWD</th>\n",
       "      <th>Sale.Type_WD</th>\n",
       "      <th>Sale.Condition_Abnorml</th>\n",
       "      <th>Sale.Condition_AdjLand</th>\n",
       "      <th>Sale.Condition_Alloca</th>\n",
       "      <th>Sale.Condition_Family</th>\n",
       "      <th>Sale.Condition_Normal</th>\n",
       "      <th>Sale.Condition_Partial</th>\n",
       "    </tr>\n",
       "  </thead>\n",
       "  <tbody>\n",
       "    <tr>\n",
       "      <th>0</th>\n",
       "      <td>120</td>\n",
       "      <td>34.0</td>\n",
       "      <td>3901</td>\n",
       "      <td>4</td>\n",
       "      <td>4</td>\n",
       "      <td>3</td>\n",
       "      <td>6</td>\n",
       "      <td>5</td>\n",
       "      <td>2005</td>\n",
       "      <td>2006</td>\n",
       "      <td>...</td>\n",
       "      <td>1</td>\n",
       "      <td>0</td>\n",
       "      <td>0</td>\n",
       "      <td>0</td>\n",
       "      <td>0</td>\n",
       "      <td>0</td>\n",
       "      <td>0</td>\n",
       "      <td>0</td>\n",
       "      <td>0</td>\n",
       "      <td>1</td>\n",
       "    </tr>\n",
       "    <tr>\n",
       "      <th>1</th>\n",
       "      <td>20</td>\n",
       "      <td>70.0</td>\n",
       "      <td>8400</td>\n",
       "      <td>4</td>\n",
       "      <td>4</td>\n",
       "      <td>3</td>\n",
       "      <td>4</td>\n",
       "      <td>5</td>\n",
       "      <td>1970</td>\n",
       "      <td>1970</td>\n",
       "      <td>...</td>\n",
       "      <td>0</td>\n",
       "      <td>0</td>\n",
       "      <td>0</td>\n",
       "      <td>1</td>\n",
       "      <td>0</td>\n",
       "      <td>0</td>\n",
       "      <td>0</td>\n",
       "      <td>0</td>\n",
       "      <td>1</td>\n",
       "      <td>0</td>\n",
       "    </tr>\n",
       "    <tr>\n",
       "      <th>2</th>\n",
       "      <td>85</td>\n",
       "      <td>60.0</td>\n",
       "      <td>7200</td>\n",
       "      <td>4</td>\n",
       "      <td>4</td>\n",
       "      <td>3</td>\n",
       "      <td>5</td>\n",
       "      <td>8</td>\n",
       "      <td>1972</td>\n",
       "      <td>2003</td>\n",
       "      <td>...</td>\n",
       "      <td>0</td>\n",
       "      <td>0</td>\n",
       "      <td>0</td>\n",
       "      <td>1</td>\n",
       "      <td>0</td>\n",
       "      <td>0</td>\n",
       "      <td>0</td>\n",
       "      <td>0</td>\n",
       "      <td>1</td>\n",
       "      <td>0</td>\n",
       "    </tr>\n",
       "    <tr>\n",
       "      <th>3</th>\n",
       "      <td>90</td>\n",
       "      <td>64.0</td>\n",
       "      <td>7018</td>\n",
       "      <td>4</td>\n",
       "      <td>4</td>\n",
       "      <td>3</td>\n",
       "      <td>5</td>\n",
       "      <td>5</td>\n",
       "      <td>1979</td>\n",
       "      <td>1979</td>\n",
       "      <td>...</td>\n",
       "      <td>0</td>\n",
       "      <td>0</td>\n",
       "      <td>0</td>\n",
       "      <td>1</td>\n",
       "      <td>0</td>\n",
       "      <td>0</td>\n",
       "      <td>1</td>\n",
       "      <td>0</td>\n",
       "      <td>0</td>\n",
       "      <td>0</td>\n",
       "    </tr>\n",
       "    <tr>\n",
       "      <th>4</th>\n",
       "      <td>60</td>\n",
       "      <td>111.0</td>\n",
       "      <td>16259</td>\n",
       "      <td>4</td>\n",
       "      <td>4</td>\n",
       "      <td>3</td>\n",
       "      <td>9</td>\n",
       "      <td>5</td>\n",
       "      <td>2006</td>\n",
       "      <td>2006</td>\n",
       "      <td>...</td>\n",
       "      <td>1</td>\n",
       "      <td>0</td>\n",
       "      <td>0</td>\n",
       "      <td>0</td>\n",
       "      <td>0</td>\n",
       "      <td>0</td>\n",
       "      <td>0</td>\n",
       "      <td>0</td>\n",
       "      <td>0</td>\n",
       "      <td>1</td>\n",
       "    </tr>\n",
       "  </tbody>\n",
       "</table>\n",
       "<p>5 rows × 226 columns</p>\n",
       "</div>"
      ],
      "text/plain": [
       "   MS.SubClass  Lot.Frontage  Lot.Area  Lot.Shape  Utilities  Land.Slope  \\\n",
       "0          120          34.0      3901          4          4           3   \n",
       "1           20          70.0      8400          4          4           3   \n",
       "2           85          60.0      7200          4          4           3   \n",
       "3           90          64.0      7018          4          4           3   \n",
       "4           60         111.0     16259          4          4           3   \n",
       "\n",
       "   Overall.Qual  Overall.Cond  Year.Built  Year.Remod.Add  ...  Sale.Type_New  \\\n",
       "0             6             5        2005            2006  ...              1   \n",
       "1             4             5        1970            1970  ...              0   \n",
       "2             5             8        1972            2003  ...              0   \n",
       "3             5             5        1979            1979  ...              0   \n",
       "4             9             5        2006            2006  ...              1   \n",
       "\n",
       "   Sale.Type_Oth  Sale.Type_VWD  Sale.Type_WD   Sale.Condition_Abnorml  \\\n",
       "0              0              0              0                       0   \n",
       "1              0              0              1                       0   \n",
       "2              0              0              1                       0   \n",
       "3              0              0              1                       0   \n",
       "4              0              0              0                       0   \n",
       "\n",
       "   Sale.Condition_AdjLand  Sale.Condition_Alloca  Sale.Condition_Family  \\\n",
       "0                       0                      0                      0   \n",
       "1                       0                      0                      0   \n",
       "2                       0                      0                      0   \n",
       "3                       0                      1                      0   \n",
       "4                       0                      0                      0   \n",
       "\n",
       "   Sale.Condition_Normal  Sale.Condition_Partial  \n",
       "0                      0                       1  \n",
       "1                      1                       0  \n",
       "2                      1                       0  \n",
       "3                      0                       0  \n",
       "4                      0                       1  \n",
       "\n",
       "[5 rows x 226 columns]"
      ]
     },
     "execution_count": 26,
     "metadata": {},
     "output_type": "execute_result"
    }
   ],
   "source": [
    "X=pd.get_dummies(data)\n",
    "X.head()"
   ]
  },
  {
   "cell_type": "markdown",
   "metadata": {},
   "source": [
    "## 2. Analiza zmiennej celu"
   ]
  },
  {
   "cell_type": "code",
   "execution_count": 27,
   "metadata": {},
   "outputs": [
    {
     "data": {
      "text/plain": [
       "<matplotlib.axes._subplots.AxesSubplot at 0x7f0456c76a10>"
      ]
     },
     "execution_count": 27,
     "metadata": {},
     "output_type": "execute_result"
    },
    {
     "data": {
      "image/png": "[encoded data removed]",
      "text/plain": [
       "<Figure size 1080x720 with 1 Axes>"
      ]
     },
     "metadata": {
      "needs_background": "light"
     },
     "output_type": "display_data"
    }
   ],
   "source": [
    "plt.figure(figsize=(15,10))\n",
    "plt.tight_layout()\n",
    "seabornInstance.distplot(y)"
   ]
  },
  {
   "cell_type": "markdown",
   "metadata": {},
   "source": [
    "## 3. Modelowanie"
   ]
  },
  {
   "cell_type": "markdown",
   "metadata": {},
   "source": [
    "3a. Zaczytanie pakietow"
   ]
  },
  {
   "cell_type": "code",
   "execution_count": 28,
   "metadata": {},
   "outputs": [],
   "source": [
    "from sklearn import metrics\n",
    "from sklearn import model_selection\n",
    "\n",
    "from sklearn.model_selection import train_test_split \n",
    "from sklearn.model_selection import GridSearchCV\n",
    "\n",
    "from sklearn.pipeline import Pipeline\n",
    "from sklearn.pipeline import make_pipeline\n",
    "\n",
    "from sklearn.linear_model import LinearRegression\n",
    "from sklearn.linear_model import Lasso\n",
    "from sklearn.ensemble import RandomForestRegressor\n",
    "from sklearn.preprocessing import PolynomialFeatures"
   ]
  },
  {
   "cell_type": "code",
   "execution_count": 29,
   "metadata": {},
   "outputs": [],
   "source": [
    "seed=123\n",
    "kfold = model_selection.KFold(n_splits=5, random_state=seed, shuffle=True)"
   ]
  },
  {
   "cell_type": "code",
   "execution_count": 30,
   "metadata": {},
   "outputs": [],
   "source": [
    "from warnings import filterwarnings\n",
    "filterwarnings(\"ignore\")"
   ]
  },
  {
   "cell_type": "markdown",
   "metadata": {},
   "source": [
    "3b. Podzial danych na zbior treningowy i testowy"
   ]
  },
  {
   "cell_type": "code",
   "execution_count": 31,
   "metadata": {},
   "outputs": [],
   "source": [
    "X_train, X_test, y_train, y_test = train_test_split(X, y, test_size=0.3)"
   ]
  },
  {
   "cell_type": "markdown",
   "metadata": {},
   "source": [
    "3c. Regresja liniowa "
   ]
  },
  {
   "cell_type": "markdown",
   "metadata": {},
   "source": [
    "Wybor parametrow modelu"
   ]
  },
  {
   "cell_type": "code",
   "execution_count": 32,
   "metadata": {},
   "outputs": [
    {
     "data": {
      "text/plain": [
       "{'polynomialfeatures__degree': 1}"
      ]
     },
     "execution_count": 32,
     "metadata": {},
     "output_type": "execute_result"
    }
   ],
   "source": [
    "parameters = {'polynomialfeatures__degree': [1, 2, 3]}\n",
    "\n",
    "lin_reg = GridSearchCV(make_pipeline(PolynomialFeatures(degree=2), LinearRegression()),\n",
    "                       param_grid=parameters,\n",
    "                       cv=5,\n",
    "                       refit=True)\n",
    "lin_reg.fit(X_train, y_train)\n",
    "lin_reg.best_params_"
   ]
  },
  {
   "cell_type": "markdown",
   "metadata": {},
   "source": [
    "Naliczenie predykcji na zbiorze testowym oraz wyznaczenie metryk na zbiorze testowym."
   ]
  },
  {
   "cell_type": "code",
   "execution_count": 33,
   "metadata": {},
   "outputs": [],
   "source": [
    "y_pred_lin_reg = lin_reg.best_estimator_.predict(X_test)"
   ]
  },
  {
   "cell_type": "code",
   "execution_count": 34,
   "metadata": {},
   "outputs": [
    {
     "name": "stdout",
     "output_type": "stream",
     "text": [
      "Mean Absolute Error: 18719.72224151138\n",
      "Mean Squared Error: 1551381960.0408804\n",
      "Root Mean Squared Error: 39387.586369830795\n",
      "R^2: 0.7321653099944203\n"
     ]
    }
   ],
   "source": [
    "print('Mean Absolute Error:', metrics.mean_absolute_error(y_test, y_pred_lin_reg))  \n",
    "print('Mean Squared Error:', metrics.mean_squared_error(y_test, y_pred_lin_reg))  \n",
    "print('Root Mean Squared Error:', np.sqrt(metrics.mean_squared_error(y_test, y_pred_lin_reg)))\n",
    "print(\"R^2: {}\".format(metrics.r2_score(y_test, y_pred_lin_reg)))"
   ]
  },
  {
   "cell_type": "markdown",
   "metadata": {},
   "source": [
    "3d. Regresja Lasso "
   ]
  },
  {
   "cell_type": "markdown",
   "metadata": {},
   "source": [
    "Wybor parametrow modelu"
   ]
  },
  {
   "cell_type": "code",
   "execution_count": 35,
   "metadata": {},
   "outputs": [
    {
     "data": {
      "text/plain": [
       "{'lasso__alpha': 100, 'polynomialfeatures__degree': 1}"
      ]
     },
     "execution_count": 35,
     "metadata": {},
     "output_type": "execute_result"
    }
   ],
   "source": [
    "parameters = {'polynomialfeatures__degree': [1, 2, 3],\n",
    "              'lasso__alpha': [0.1, 1, 10,100,1000]}\n",
    "\n",
    "lasso_reg = GridSearchCV(make_pipeline(PolynomialFeatures(degree=2), Lasso()),\n",
    "                    param_grid=parameters,\n",
    "                    cv=5,\n",
    "                    refit=True)\n",
    "lasso_reg.fit(X_train, y_train)\n",
    "lasso_reg.best_params_"
   ]
  },
  {
   "cell_type": "markdown",
   "metadata": {},
   "source": [
    "Naliczenie predykcji na zbiorze testowym oraz wyznaczenie metryk na zbiorze testowym."
   ]
  },
  {
   "cell_type": "code",
   "execution_count": 36,
   "metadata": {},
   "outputs": [],
   "source": [
    "y_pred_lasso_reg = lasso_reg.best_estimator_.predict(X_test)"
   ]
  },
  {
   "cell_type": "code",
   "execution_count": 37,
   "metadata": {},
   "outputs": [
    {
     "name": "stdout",
     "output_type": "stream",
     "text": [
      "Mean Absolute Error: 18271.331689956554\n",
      "Mean Squared Error: 1510022186.6600223\n",
      "Root Mean Squared Error: 38859.003932937114\n",
      "R^2: 0.7393057708012942\n"
     ]
    }
   ],
   "source": [
    "print('Mean Absolute Error:', metrics.mean_absolute_error(y_test, y_pred_lasso_reg))  \n",
    "print('Mean Squared Error:', metrics.mean_squared_error(y_test, y_pred_lasso_reg))  \n",
    "print('Root Mean Squared Error:', np.sqrt(metrics.mean_squared_error(y_test, y_pred_lasso_reg)))\n",
    "print(\"R^2: {}\".format(metrics.r2_score(y_test, y_pred_lasso_reg)))"
   ]
  },
  {
   "cell_type": "markdown",
   "metadata": {},
   "source": [
    "3e. Las losowy regresyjny"
   ]
  },
  {
   "cell_type": "markdown",
   "metadata": {},
   "source": [
    "Wybor parametrow modelu"
   ]
  },
  {
   "cell_type": "code",
   "execution_count": 38,
   "metadata": {},
   "outputs": [
    {
     "data": {
      "text/plain": [
       "{'max_depth': 20, 'max_features': 'auto', 'n_estimators': 200}"
      ]
     },
     "execution_count": 38,
     "metadata": {},
     "output_type": "execute_result"
    }
   ],
   "source": [
    "parameters = {'n_estimators': [200, 700],\n",
    "              'max_features': ['auto', 'sqrt', 'log2'],\n",
    "              'max_depth' : [2,10,20]}\n",
    "\n",
    "RFR = RandomForestRegressor(n_jobs=-1,max_features= 'sqrt' ,n_estimators=50, oob_score = True ) \n",
    "RandFor_reg = GridSearchCV(estimator=RFR, param_grid=parameters, cv= kfold, refit=True)\n",
    "RandFor_reg.fit(X_train, y_train)\n",
    "RandFor_reg.best_params_"
   ]
  },
  {
   "cell_type": "markdown",
   "metadata": {},
   "source": [
    "Naliczenie predykcji na zbiorze testowym oraz wyznaczenie metryk na zbiorze testowym."
   ]
  },
  {
   "cell_type": "code",
   "execution_count": 39,
   "metadata": {},
   "outputs": [],
   "source": [
    "y_pred_RandFor_reg= RandFor_reg.best_estimator_.predict(X_test)"
   ]
  },
  {
   "cell_type": "code",
   "execution_count": 40,
   "metadata": {},
   "outputs": [
    {
     "name": "stdout",
     "output_type": "stream",
     "text": [
      "Mean Absolute Error: 18677.19515415231\n",
      "Mean Squared Error: 1187184086.916101\n",
      "Root Mean Squared Error: 34455.5378265396\n",
      "R^2: 0.7950413952922643\n"
     ]
    }
   ],
   "source": [
    "print('Mean Absolute Error:', metrics.mean_absolute_error(y_test, y_pred_RandFor_reg))  \n",
    "print('Mean Squared Error:', metrics.mean_squared_error(y_test, y_pred_RandFor_reg))  \n",
    "print('Root Mean Squared Error:', np.sqrt(metrics.mean_squared_error(y_test, y_pred_RandFor_reg)))\n",
    "print(\"R^2: {}\".format(metrics.r2_score(y_test, y_pred_RandFor_reg)))"
   ]
  },
  {
   "cell_type": "markdown",
   "metadata": {},
   "source": [
    "## 4. Porownanie modeli"
   ]
  },
  {
   "cell_type": "markdown",
   "metadata": {},
   "source": [
    "4a. Porownanie predykcji z 3 metod modelowania"
   ]
  },
  {
   "cell_type": "code",
   "execution_count": 41,
   "metadata": {
    "scrolled": true
   },
   "outputs": [
    {
     "data": {
      "text/html": [
       "<div>\n",
       "<style scoped>\n",
       "    .dataframe tbody tr th:only-of-type {\n",
       "        vertical-align: middle;\n",
       "    }\n",
       "\n",
       "    .dataframe tbody tr th {\n",
       "        vertical-align: top;\n",
       "    }\n",
       "\n",
       "    .dataframe thead th {\n",
       "        text-align: right;\n",
       "    }\n",
       "</style>\n",
       "<table border=\"1\" class=\"dataframe\">\n",
       "  <thead>\n",
       "    <tr style=\"text-align: right;\">\n",
       "      <th></th>\n",
       "      <th>Actual</th>\n",
       "      <th>Predicted_lin_reg</th>\n",
       "      <th>Predicted_lasso_reg</th>\n",
       "      <th>Predicted_RandFor_reg</th>\n",
       "    </tr>\n",
       "  </thead>\n",
       "  <tbody>\n",
       "    <tr>\n",
       "      <th>742</th>\n",
       "      <td>133500</td>\n",
       "      <td>116165.33</td>\n",
       "      <td>117572.17</td>\n",
       "      <td>131286.25</td>\n",
       "    </tr>\n",
       "    <tr>\n",
       "      <th>43</th>\n",
       "      <td>238500</td>\n",
       "      <td>226701.94</td>\n",
       "      <td>225606.40</td>\n",
       "      <td>220717.66</td>\n",
       "    </tr>\n",
       "    <tr>\n",
       "      <th>938</th>\n",
       "      <td>124000</td>\n",
       "      <td>111087.67</td>\n",
       "      <td>104792.79</td>\n",
       "      <td>118988.14</td>\n",
       "    </tr>\n",
       "    <tr>\n",
       "      <th>1005</th>\n",
       "      <td>410000</td>\n",
       "      <td>378366.00</td>\n",
       "      <td>377186.98</td>\n",
       "      <td>357491.60</td>\n",
       "    </tr>\n",
       "    <tr>\n",
       "      <th>108</th>\n",
       "      <td>193879</td>\n",
       "      <td>204235.96</td>\n",
       "      <td>204437.70</td>\n",
       "      <td>188694.18</td>\n",
       "    </tr>\n",
       "  </tbody>\n",
       "</table>\n",
       "</div>"
      ],
      "text/plain": [
       "      Actual  Predicted_lin_reg  Predicted_lasso_reg  Predicted_RandFor_reg\n",
       "742   133500          116165.33            117572.17              131286.25\n",
       "43    238500          226701.94            225606.40              220717.66\n",
       "938   124000          111087.67            104792.79              118988.14\n",
       "1005  410000          378366.00            377186.98              357491.60\n",
       "108   193879          204235.96            204437.70              188694.18"
      ]
     },
     "execution_count": 41,
     "metadata": {},
     "output_type": "execute_result"
    }
   ],
   "source": [
    "porownanie = pd.DataFrame({'Actual': y_test, \n",
    "                   'Predicted_lin_reg': np.round(y_pred_lin_reg,2),\n",
    "                   'Predicted_lasso_reg': np.round(y_pred_lasso_reg,2),\n",
    "                   'Predicted_RandFor_reg': np.round(y_pred_RandFor_reg,2)})\n",
    "porownanie.head(5)"
   ]
  },
  {
   "cell_type": "markdown",
   "metadata": {},
   "source": [
    "4b. Porownanie metryk z 3 metod modelowania"
   ]
  },
  {
   "cell_type": "code",
   "execution_count": 42,
   "metadata": {},
   "outputs": [],
   "source": [
    "models = []\n",
    "models.append(('RegLin', lin_reg.best_estimator_))\n",
    "models.append(('Lasso', lasso_reg.best_estimator_))\n",
    "models.append(('RandFor', RandFor_reg.best_estimator_))\n",
    "\n",
    "r2 = []\n",
    "median_absolute_error = []\n",
    "mean_squared_error = []\n",
    "mean_absolute_error = []\n",
    "\n",
    "for name, model in models:\n",
    "    r2.append(round(metrics.r2_score(y_test, model.predict(X_test)),4))\n",
    "    median_absolute_error.append(round(metrics.median_absolute_error(y_test, model.predict(X_test)),4))\n",
    "    mean_squared_error.append(round(metrics.mean_squared_error(y_test, model.predict(X_test)),9))\n",
    "    mean_absolute_error.append(round(metrics.mean_absolute_error(y_test, model.predict(X_test)),4))"
   ]
  },
  {
   "cell_type": "code",
   "execution_count": 43,
   "metadata": {},
   "outputs": [
    {
     "data": {
      "text/html": [
       "<div>\n",
       "<style scoped>\n",
       "    .dataframe tbody tr th:only-of-type {\n",
       "        vertical-align: middle;\n",
       "    }\n",
       "\n",
       "    .dataframe tbody tr th {\n",
       "        vertical-align: top;\n",
       "    }\n",
       "\n",
       "    .dataframe thead th {\n",
       "        text-align: right;\n",
       "    }\n",
       "</style>\n",
       "<table border=\"1\" class=\"dataframe\">\n",
       "  <thead>\n",
       "    <tr style=\"text-align: right;\">\n",
       "      <th></th>\n",
       "      <th>Method</th>\n",
       "      <th>r2</th>\n",
       "      <th>median_absolute_error</th>\n",
       "      <th>mean_squared_error</th>\n",
       "      <th>mean_absolute_error</th>\n",
       "    </tr>\n",
       "  </thead>\n",
       "  <tbody>\n",
       "    <tr>\n",
       "      <th>0</th>\n",
       "      <td>RegLin</td>\n",
       "      <td>0.7322</td>\n",
       "      <td>12198.7294</td>\n",
       "      <td>1.551382e+09</td>\n",
       "      <td>18719.7222</td>\n",
       "    </tr>\n",
       "    <tr>\n",
       "      <th>1</th>\n",
       "      <td>Lasso</td>\n",
       "      <td>0.7393</td>\n",
       "      <td>12292.4941</td>\n",
       "      <td>1.510022e+09</td>\n",
       "      <td>18271.3317</td>\n",
       "    </tr>\n",
       "    <tr>\n",
       "      <th>2</th>\n",
       "      <td>RandFor</td>\n",
       "      <td>0.7950</td>\n",
       "      <td>10864.4850</td>\n",
       "      <td>1.187184e+09</td>\n",
       "      <td>18677.1952</td>\n",
       "    </tr>\n",
       "  </tbody>\n",
       "</table>\n",
       "</div>"
      ],
      "text/plain": [
       "    Method      r2  median_absolute_error  mean_squared_error  \\\n",
       "0   RegLin  0.7322             12198.7294        1.551382e+09   \n",
       "1    Lasso  0.7393             12292.4941        1.510022e+09   \n",
       "2  RandFor  0.7950             10864.4850        1.187184e+09   \n",
       "\n",
       "   mean_absolute_error  \n",
       "0           18719.7222  \n",
       "1           18271.3317  \n",
       "2           18677.1952  "
      ]
     },
     "execution_count": 43,
     "metadata": {},
     "output_type": "execute_result"
    }
   ],
   "source": [
    "wynik = {'r2': r2, \n",
    "     'median_absolute_error': median_absolute_error,\n",
    "     'mean_squared_error' : mean_squared_error,\n",
    "     'mean_absolute_error' : mean_absolute_error  }\n",
    "wyniki = pd.DataFrame(data=wynik)\n",
    "wyniki.insert(loc=0, column='Method', value=[models[0][0],models[1][0],models[2][0]])\n",
    "wyniki"
   ]
  },
  {
   "cell_type": "markdown",
   "metadata": {},
   "source": [
    "4c. Porownanie wykresow wartosci przewidywanych z 3 metod modelowania"
   ]
  },
  {
   "cell_type": "code",
   "execution_count": 44,
   "metadata": {},
   "outputs": [],
   "source": [
    "# Wykresy wartości przewidywanych od prawdziwych\n",
    "\n",
    "def wykres_wart(regressor,regressor_name):\n",
    "\n",
    "    plt.scatter(y_train, regressor.best_estimator_.predict(X_train), \n",
    "                color = \"green\", s = 10, label = 'Train data') \n",
    "    plt.scatter(y_test, regressor.best_estimator_.predict(X_test), \n",
    "                color = \"blue\", s = 10, label = 'Test data') \n",
    "\n",
    "    plt.xlim(0, 600000) \n",
    "    plt.ylim(0, 600000)     \n",
    "\n",
    "    plt.legend(loc = 'upper right') \n",
    "    plt.title(f\"Wykresy wartości przewidywanych od prawdziwych: {regressor_name}\") \n",
    "    plt.show() "
   ]
  },
  {
   "cell_type": "code",
   "execution_count": 45,
   "metadata": {},
   "outputs": [
    {
     "data": {
      "image/png": "[encoded data removed]",
      "text/plain": [
       "<Figure size 432x288 with 1 Axes>"
      ]
     },
     "metadata": {
      "needs_background": "light"
     },
     "output_type": "display_data"
    }
   ],
   "source": [
    "wykres_wart(lin_reg,'RegLin')"
   ]
  },
  {
   "cell_type": "code",
   "execution_count": 46,
   "metadata": {},
   "outputs": [
    {
     "data": {
      "image/png": "[encoded data removed]",
      "text/plain": [
       "<Figure size 432x288 with 1 Axes>"
      ]
     },
     "metadata": {
      "needs_background": "light"
     },
     "output_type": "display_data"
    }
   ],
   "source": [
    "wykres_wart(lasso_reg,'Lasso')"
   ]
  },
  {
   "cell_type": "code",
   "execution_count": 47,
   "metadata": {},
   "outputs": [
    {
     "data": {
      "image/png": "[encoded data removed]",
      "text/plain": [
       "<Figure size 432x288 with 1 Axes>"
      ]
     },
     "metadata": {
      "needs_background": "light"
     },
     "output_type": "display_data"
    }
   ],
   "source": [
    "wykres_wart(RandFor_reg,'RandFor')"
   ]
  },
  {
   "cell_type": "markdown",
   "metadata": {},
   "source": [
    "4d. Porownanie wykresow residuow z 3 metod modelowania"
   ]
  },
  {
   "cell_type": "code",
   "execution_count": 48,
   "metadata": {},
   "outputs": [],
   "source": [
    "# wykres residuow\n",
    "\n",
    "def wykres_res(regressor,regressor_name):\n",
    "#     plt.style.use('fivethirtyeight') \n",
    "    plt.scatter(regressor.best_estimator_.predict(X_train), regressor.best_estimator_.predict(X_train) - y_train, \n",
    "                color = \"green\", s = 10, label = 'Train data') \n",
    "    plt.scatter(regressor.best_estimator_.predict(X_test), regressor.best_estimator_.predict(X_test) - y_test, \n",
    "                color = \"blue\", s = 10, label = 'Test data') \n",
    "    plt.hlines(y = 0, xmin = 0, xmax = 600000, linewidth = 2) \n",
    "    plt.xlim(0, 600000) \n",
    "    plt.ylim(-200000, 200000) \n",
    "    plt.legend(loc = 'upper right') \n",
    "    plt.title(f\"Wykres residuow: {regressor_name}\") \n",
    "    plt.show() "
   ]
  },
  {
   "cell_type": "code",
   "execution_count": 49,
   "metadata": {},
   "outputs": [
    {
     "data": {
      "image/png": "[encoded data removed]",
      "text/plain": [
       "<Figure size 432x288 with 1 Axes>"
      ]
     },
     "metadata": {
      "needs_background": "light"
     },
     "output_type": "display_data"
    }
   ],
   "source": [
    "wykres_res(lin_reg,'RegLin')"
   ]
  },
  {
   "cell_type": "code",
   "execution_count": 50,
   "metadata": {},
   "outputs": [
    {
     "data": {
      "image/png": "[encoded data removed]",
      "text/plain": [
       "<Figure size 432x288 with 1 Axes>"
      ]
     },
     "metadata": {
      "needs_background": "light"
     },
     "output_type": "display_data"
    }
   ],
   "source": [
    "wykres_res(lasso_reg,'Lasso')"
   ]
  },
  {
   "cell_type": "code",
   "execution_count": 51,
   "metadata": {},
   "outputs": [
    {
     "data": {
      "image/png": "[encoded data removed]",
      "text/plain": [
       "<Figure size 432x288 with 1 Axes>"
      ]
     },
     "metadata": {
      "needs_background": "light"
     },
     "output_type": "display_data"
    }
   ],
   "source": [
    "wykres_res(RandFor_reg,'RandFor')"
   ]
  },
  {
   "cell_type": "markdown",
   "metadata": {},
   "source": [
    "4e. Wybor najlepszej metody modelowania"
   ]
  },
  {
   "cell_type": "markdown",
   "metadata": {},
   "source": [
    "Najlepszy wynik zostal osiagniety dla lasow losowych regresyjnych. Najnisza wartosc R^2 oraz zadowalajacy wynik wskaznika MAE prowadza do ostatecznego wyboru tej metody modelowania. Dodatkowo wykres wartosci przewidywanych oraz wykres reziduow swiadczy o zadowalajacej stabilnosci modelu."
   ]
  },
  {
   "cell_type": "markdown",
   "metadata": {},
   "source": [
    "## 5. Wyniki"
   ]
  },
  {
   "cell_type": "markdown",
   "metadata": {},
   "source": [
    "5a. Ostateczny ksztalt modelu"
   ]
  },
  {
   "cell_type": "code",
   "execution_count": 66,
   "metadata": {},
   "outputs": [
    {
     "data": {
      "text/plain": [
       "GridSearchCV(cv=KFold(n_splits=5, random_state=123, shuffle=True),\n",
       "             error_score=nan,\n",
       "             estimator=RandomForestRegressor(bootstrap=True, ccp_alpha=0.0,\n",
       "                                             criterion='mse', max_depth=None,\n",
       "                                             max_features='sqrt',\n",
       "                                             max_leaf_nodes=None,\n",
       "                                             max_samples=None,\n",
       "                                             min_impurity_decrease=0.0,\n",
       "                                             min_impurity_split=None,\n",
       "                                             min_samples_leaf=1,\n",
       "                                             min_samples_split=2,\n",
       "                                             min_weight_fraction_leaf=0.0,\n",
       "                                             n_estimators=50, n_jobs=-1,\n",
       "                                             oob_score=True, random_state=None,\n",
       "                                             verbose=0, warm_start=False),\n",
       "             iid='deprecated', n_jobs=None,\n",
       "             param_grid={'max_depth': [20], 'max_features': ['auto'],\n",
       "                         'n_estimators': [200]},\n",
       "             pre_dispatch='2*n_jobs', refit=True, return_train_score=False,\n",
       "             scoring=None, verbose=0)"
      ]
     },
     "execution_count": 66,
     "metadata": {},
     "output_type": "execute_result"
    }
   ],
   "source": [
    "parameters = {'n_estimators': [200],\n",
    "              'max_features': ['auto'],\n",
    "              'max_depth' : [20]}\n",
    "\n",
    "RFR = RandomForestRegressor(n_jobs=-1,max_features= 'sqrt' ,n_estimators=50, oob_score = True ) \n",
    "model = GridSearchCV(estimator=RFR, param_grid=parameters, cv= kfold, refit=True)\n",
    "model.fit(X_train, y_train)"
   ]
  },
  {
   "cell_type": "code",
   "execution_count": 67,
   "metadata": {},
   "outputs": [],
   "source": [
    "y_pred= model.predict(X_test)"
   ]
  },
  {
   "cell_type": "code",
   "execution_count": 68,
   "metadata": {},
   "outputs": [
    {
     "name": "stdout",
     "output_type": "stream",
     "text": [
      "Mean Absolute Error: 18877.485434246206\n",
      "Mean Squared Error: 1193624024.848056\n",
      "Root Mean Squared Error: 34548.864306197625\n",
      "R^2: 0.7939295873532219\n"
     ]
    }
   ],
   "source": [
    "print('Mean Absolute Error:', metrics.mean_absolute_error(y_test, y_pred))  \n",
    "print('Mean Squared Error:', metrics.mean_squared_error(y_test, y_pred))  \n",
    "print('Root Mean Squared Error:', np.sqrt(metrics.mean_squared_error(y_test, y_pred)))\n",
    "print(\"R^2: {}\".format(metrics.r2_score(y_test, y_pred)))"
   ]
  },
  {
   "cell_type": "markdown",
   "metadata": {},
   "source": [
    "5b. Wskazanie najważniejszych zmiennych"
   ]
  },
  {
   "cell_type": "code",
   "execution_count": 69,
   "metadata": {},
   "outputs": [],
   "source": [
    "feature = pd.DataFrame(model.best_estimator_.feature_importances_, X_train.columns,columns=['Coefficient']).sort_values(by='Coefficient', ascending=False).iloc[:40,:]\n",
    "feature.reset_index(level=0, inplace=True)"
   ]
  },
  {
   "cell_type": "code",
   "execution_count": 70,
   "metadata": {},
   "outputs": [
    {
     "data": {
      "image/png": "[encoded data removed]",
      "text/plain": [
       "<Figure size 720x432 with 1 Axes>"
      ]
     },
     "metadata": {
      "needs_background": "light"
     },
     "output_type": "display_data"
    }
   ],
   "source": [
    "names =feature.iloc[:,0]\n",
    "value=feature.iloc[:,1]\n",
    "\n",
    "ticks = [i for i in range(len(names))]\n",
    "\n",
    "plt.figure(figsize=(10,6));\n",
    "plt.xticks(ticks, names, rotation='vertical')\n",
    "plt.bar(ticks, value)\n",
    "plt.show()"
   ]
  },
  {
   "cell_type": "markdown",
   "metadata": {},
   "source": [
    "KONIEC"
   ]
  },
  {
   "cell_type": "code",
   "execution_count": null,
   "metadata": {},
   "outputs": [],
   "source": []
  }
 ],
 "metadata": {
  "kernelspec": {
   "display_name": "Python 3",
   "language": "python",
   "name": "python3"
  },
  "language_info": {
   "codemirror_mode": {
    "name": "ipython",
    "version": 3
   },
   "file_extension": ".py",
   "mimetype": "text/x-python",
   "name": "python",
   "nbconvert_exporter": "python",
   "pygments_lexer": "ipython3",
   "version": "3.7.6"
  }
 },
 "nbformat": 4,
 "nbformat_minor": 4
}
